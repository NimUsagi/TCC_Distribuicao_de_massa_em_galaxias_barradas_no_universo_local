{
 "cells": [
  {
   "cell_type": "markdown",
   "id": "0787eee4-9036-4dd8-921b-038c9b013066",
   "metadata": {},
   "source": [
    "### Amostras de diferentes cortes de massa\n",
    "\n",
    "O objetivo desse jupyter notebook é apenas ilustrar o tamanho de diferentes amostras considerando diferentes cortes de massa. Por isso, aqui vamos apenas os tamanhos finais das amostras com cortes de massa, considerando a tabela completa (2277 galáxias S4G) e a nossa amostra final (370 galáxias escolhidas para estudar distribuição de massa)."
   ]
  },
  {
   "cell_type": "code",
   "execution_count": 1,
   "id": "660a5c33-860b-4294-9622-5ce21e4eda61",
   "metadata": {},
   "outputs": [],
   "source": [
    "import numpy as np\n",
    "import pandas as pd\n",
    "import matplotlib.pyplot as plt"
   ]
  },
  {
   "cell_type": "code",
   "execution_count": 2,
   "id": "99c9b024-2a06-4b79-b886-d842fe9ae0fe",
   "metadata": {},
   "outputs": [
    {
     "name": "stderr",
     "output_type": "stream",
     "text": [
      "/tmp/ipykernel_23079/1286915235.py:2: DtypeWarning: Columns (0) have mixed types. Specify dtype option on import or set low_memory=False.\n",
      "  SaloButa_S4G = pd.read_csv('Salo15(4629)+IRSA_S4G(2352)+Bouquin18(1931)+Buta15.csv')\n"
     ]
    }
   ],
   "source": [
    "#Tabela completa -- Para comparações\n",
    "SaloButa_S4G = pd.read_csv('Salo15(4629)+IRSA_S4G(2352)+Bouquin18(1931)+Buta15.csv')\n",
    "\n",
    "#Nossa amostra final\n",
    "amostra_430 = pd.read_csv('amostra_430.csv')\n",
    "\n",
    "#Definindo colunas de interesse -- Apenas necessário na tabela completa\n",
    "Colunas_interesse = SaloButa_S4G[['Name_1','Mod','Nc','Q','C','Fn','f1','mag1_1','f2','mu02','f3',\n",
    "                                  'mag3','f4','mu04','f5','mag5',\n",
    "                                  'mstar','dmean','type','t_1','incl','Dist','__T_','__F_']] \n",
    "\n",
    "#Tirando as linhas duplicadas -- uma linha para cada componente do modelo\n",
    "s4g_comps = Colunas_interesse.drop(index=0) #Removendo a primeira linha, que é apenas um indice que eu uso para me\n",
    "#orientar com as colunas na tabela completa, pois são muitas colunas\n",
    "s4g_2277 = s4g_comps.drop_duplicates(subset='Name_1')\n"
   ]
  },
  {
   "cell_type": "code",
   "execution_count": 3,
   "id": "902adef6-8e0e-4ac9-a5dd-7a60e1bb255c",
   "metadata": {},
   "outputs": [
    {
     "name": "stderr",
     "output_type": "stream",
     "text": [
      "/tmp/ipykernel_23079/1032160499.py:5: UserWarning: Boolean Series key will be reindexed to match DataFrame index.\n",
      "  s4g_2277_m9_m10 = s4g_2277[s4g_2277.mstar >= 9][s4g_2277.mstar < 10] #massivas intermediarias\n"
     ]
    }
   ],
   "source": [
    "#Os cortes de massa -- Tabela completa\n",
    "\n",
    "s4g_2277_m9 = s4g_2277[s4g_2277.mstar < 9] #massa menor que 10^9 -- galáxias anãs\n",
    "\n",
    "s4g_2277_m9_m10 = s4g_2277[s4g_2277.mstar >= 9][s4g_2277.mstar < 10] #massivas intermediarias\n",
    "\n",
    "s4g_2277_m10 = s4g_2277[s4g_2277.mstar >= 10] #muito massivas\n",
    "\n",
    "s4g_2277_m9m = s4g_2277[s4g_2277.mstar >= 9] #massivas"
   ]
  },
  {
   "cell_type": "code",
   "execution_count": 4,
   "id": "c98cc5b9-7441-487f-a16f-2b253e632a24",
   "metadata": {
    "tags": []
   },
   "outputs": [
    {
     "name": "stdout",
     "output_type": "stream",
     "text": [
      "Considerando a tabela completa com  2277\n",
      "Temos: galáxias anãs:  435\n",
      "E galáxias massivas:  1834\n",
      "Onde,  965 são massivas intermediárias e\n",
      "são muito massivas  869\n"
     ]
    }
   ],
   "source": [
    "print('Considerando a tabela completa com ', len(s4g_2277))\n",
    "print('Temos: galáxias anãs: ', len(s4g_2277_m9))\n",
    "print('E galáxias massivas: ',len(s4g_2277_m9m))\n",
    "print('Onde, ',len(s4g_2277_m9_m10),'são massivas intermediárias e')\n",
    "print('são muito massivas ',len(s4g_2277_m10))"
   ]
  },
  {
   "cell_type": "code",
   "execution_count": 5,
   "id": "df78076b-95ca-4e5d-9ecb-cb346aa3ab70",
   "metadata": {},
   "outputs": [
    {
     "name": "stderr",
     "output_type": "stream",
     "text": [
      "/tmp/ipykernel_23079/3765417023.py:5: UserWarning: Boolean Series key will be reindexed to match DataFrame index.\n",
      "  amostra_430_m9_m10 = amostra_430[amostra_430.mstar >= 9][amostra_430.mstar < 10] #massivas intermediarias\n"
     ]
    }
   ],
   "source": [
    "#Os cortes de massa -- Tabela amostra 430 galáxias\n",
    "\n",
    "amostra_430_m9 = amostra_430[amostra_430.mstar < 9] #massa menor que 10^9 -- galáxias anãs\n",
    "\n",
    "amostra_430_m9_m10 = amostra_430[amostra_430.mstar >= 9][amostra_430.mstar < 10] #massivas intermediarias\n",
    "\n",
    "amostra_430_m10 = amostra_430[amostra_430.mstar >= 10] #muito massivas\n",
    "\n",
    "amostra_430_m9m = amostra_430[amostra_430.mstar >= 9] #massivas"
   ]
  },
  {
   "cell_type": "code",
   "execution_count": 6,
   "id": "490556ab-7e6f-4637-93f3-0836a4b800fa",
   "metadata": {},
   "outputs": [
    {
     "name": "stdout",
     "output_type": "stream",
     "text": [
      "Considerando a tabela com a nossa amostra com  430\n",
      "Temos: galáxias anãs:  13\n",
      "E galáxias massivas:  417\n",
      "Onde,  208 são massivas intermediárias e\n",
      "são muito massivas  209\n"
     ]
    }
   ],
   "source": [
    "print('Considerando a tabela com a nossa amostra com ', len(amostra_430))\n",
    "print('Temos: galáxias anãs: ', len(amostra_430_m9))\n",
    "print('E galáxias massivas: ',len(amostra_430_m9m))\n",
    "print('Onde, ',len(amostra_430_m9_m10),'são massivas intermediárias e')\n",
    "print('são muito massivas ',len(amostra_430_m10))"
   ]
  }
 ],
 "metadata": {
  "kernelspec": {
   "display_name": "Python 3 (ipykernel)",
   "language": "python",
   "name": "python3"
  },
  "language_info": {
   "codemirror_mode": {
    "name": "ipython",
    "version": 3
   },
   "file_extension": ".py",
   "mimetype": "text/x-python",
   "name": "python",
   "nbconvert_exporter": "python",
   "pygments_lexer": "ipython3",
   "version": "3.9.12"
  }
 },
 "nbformat": 4,
 "nbformat_minor": 5
}
